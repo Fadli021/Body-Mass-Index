{
 "cells": [
  {
   "cell_type": "code",
   "execution_count": 19,
   "metadata": {},
   "outputs": [
    {
     "name": "stdout",
     "output_type": "stream",
     "text": [
      "*****************************************\n"
     ]
    },
    {
     "name": "stdin",
     "output_type": "stream",
     "text": [
      "Masukan NIS anda :  11806664\n",
      "Masukan Nama anda :  Fadli\n",
      "Masukan JK anda :  Laki\n",
      "Rombel anda :  RPL\n",
      "Masukan Berat badan anda :  65\n",
      "Masukan Tinggi badan anda :  170\n"
     ]
    },
    {
     "name": "stdout",
     "output_type": "stream",
     "text": [
      "*****************************************\n",
      "Laporan Body Mass Index\n",
      "Nis Anda :  11806664\n",
      "Nama Anda :  Fadli\n",
      "JK Anda :  Laki\n",
      "Rombel Anda :  RPL\n",
      "Hasil BIM anda :  24.852941176470587 Normal\n"
     ]
    }
   ],
   "source": [
    "print('*****************************************')\n",
    "nis = int(input(\"Masukan NIS anda : \"))\n",
    "nama = input('Masukan Nama anda : ')\n",
    "jk = input(\"Masukan JK anda : \")\n",
    "rombel = input(\"Rombel anda : \")\n",
    "\n",
    "bb = float(input(\"Masukan Berat badan anda (KG): \"))\n",
    "t = float(input(\"Masukan Tinggi badan anda (CM): \"))\n",
    "\n",
    "print(\"*****************************************\")\n",
    "print(\"Laporan Body Mass Index\")\n",
    "    \n",
    "print(\"Nis Anda : \",nis)\n",
    "print(\"Nama Anda : \",nama)\n",
    "print(\"JK Anda : \",jk)\n",
    "print(\"Rombel Anda : \",rombel)\n",
    "      \n",
    "total =(bb*bb)/t\n",
    "\n",
    "if total < 17 :\n",
    "    print(\"Hasil BIM anda : \",total,\"Kurus\")\n",
    "elif total < 27 :\n",
    "    print(\"Hasil BIM anda : \",total,\"Normal\")\n",
    "elif total > 27 :\n",
    "    print(\"Hasil BIM anda : \",total,\"Gemuk\")\n",
    "\n",
    "      \n",
    "\n",
    "\n"
   ]
  }
 ],
 "metadata": {
  "kernelspec": {
   "display_name": "Python 3",
   "language": "python",
   "name": "python3"
  },
  "language_info": {
   "codemirror_mode": {
    "name": "ipython",
    "version": 3
   },
   "file_extension": ".py",
   "mimetype": "text/x-python",
   "name": "python",
   "nbconvert_exporter": "python",
   "pygments_lexer": "ipython3",
   "version": "3.7.1"
  }
 },
 "nbformat": 4,
 "nbformat_minor": 2
}
